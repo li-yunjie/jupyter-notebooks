{
 "cells": [
  {
   "cell_type": "markdown",
   "metadata": {},
   "source": [
    "To do machine learning you need:\n",
    "    - Input data points\n",
    "    - Example of the expected output\n",
    "    - A way to measure whether the algorithm is doing a good job\n",
    "    \n",
    "gradient boosting machines are good for shallow learning(XGBoost), deep learning is good for perceptual problems(Keras)\n",
    "\n",
    "loss function: measure how far the predicted output is from what you expect\n",
    "optimizer: use score calculated by the loss function as feedback signal to adjust weights."
   ]
  },
  {
   "cell_type": "code",
   "execution_count": 14,
   "metadata": {},
   "outputs": [
    {
     "name": "stdout",
     "output_type": "stream",
     "text": [
      "(60000, 28, 28)\n",
      "[5 0 4 1 9 2 1 3 1 4]\n",
      "Epoch 1/5\n",
      "60000/60000 [==============================] - 4s - loss: 0.2554 - acc: 0.9264     \n",
      "Epoch 2/5\n",
      "60000/60000 [==============================] - 3s - loss: 0.1042 - acc: 0.9687     \n",
      "Epoch 3/5\n",
      "60000/60000 [==============================] - 3s - loss: 0.0693 - acc: 0.9793     \n",
      "Epoch 4/5\n",
      "60000/60000 [==============================] - 3s - loss: 0.0504 - acc: 0.9847     \n",
      "Epoch 5/5\n",
      "60000/60000 [==============================] - 3s - loss: 0.0376 - acc: 0.9890     \n"
     ]
    },
    {
     "data": {
      "text/plain": [
       "<keras.callbacks.History at 0x127bafbe0>"
      ]
     },
     "execution_count": 14,
     "metadata": {},
     "output_type": "execute_result"
    }
   ],
   "source": [
    "from keras.datasets import mnist\n",
    "(train_images, train_labels), (test_images, test_labels) = mnist.load_data()\n",
    "print(train_images.shape)\n",
    "print(train_labels[:10])\n",
    "\n",
    "from keras import models\n",
    "from keras import layers\n",
    "\n",
    "network = models.Sequential()\n",
    "network.add(layers.Dense(512, activation = 'relu', input_shape=(28*28,)))\n",
    "network.add(layers.Dense(10, activation='softmax'))\n",
    "#model still needs: a loss function, an optimizer, metrics to monitor during training and testing\n",
    "network.compile(optimizer='rmsprop',\n",
    "                loss='categorical_crossentropy',\n",
    "               metrics=['accuracy'])\n",
    "\n",
    "#data preprocessing\n",
    "train_images = train_images.reshape((-1,28*28))\n",
    "train_images = train_images.astype('float32') / 255\n",
    "\n",
    "test_images = test_images.reshape((-1, 28*28))\n",
    "test_images = test_images.astype('float32')/255\n",
    "\n",
    "from keras.utils import to_categorical\n",
    "train_labels = to_categorical(train_labels)\n",
    "test_labels = to_categorical(test_labels)\n",
    "\n",
    "network.fit(train_images, train_labels, epochs=5, batch_size=128)"
   ]
  },
  {
   "cell_type": "code",
   "execution_count": 15,
   "metadata": {},
   "outputs": [
    {
     "name": "stdout",
     "output_type": "stream",
     "text": [
      " 9760/10000 [============================>.] - ETA: 0stest_loss: 0.0693357025256\n",
      "test_acc: 0.9807\n"
     ]
    }
   ],
   "source": [
    "test_loss, test_acc = network.evaluate(test_images, test_labels)\n",
    "print('test_loss:', test_loss)\n",
    "print('test_acc:', test_acc)"
   ]
  },
  {
   "cell_type": "markdown",
   "metadata": {},
   "source": [
    "tensor attributes:\n",
    "    - number of axes(rank): numpy's ndim\n",
    "    - shape: tuple of integers describe how many dimensions the tensor has along each axis\n",
    "    - data type: dtype, type of data contained in the tensor"
   ]
  },
  {
   "cell_type": "code",
   "execution_count": 28,
   "metadata": {},
   "outputs": [],
   "source": [
    "#python naive relu\n",
    "def naive_relu(x):\n",
    "    assert len(x.shape) == 2\n",
    "    \n",
    "    x = x.copy()\n",
    "    for i in range(x.shape[0]):\n",
    "        for j in range(x.shape[1]):\n",
    "            x[i, j] = max(x[i, j], 0)\n",
    "    return x"
   ]
  },
  {
   "cell_type": "code",
   "execution_count": 29,
   "metadata": {},
   "outputs": [],
   "source": [
    "#python naive add\n",
    "def naive_add(x, y):\n",
    "    assert len(x.shape) == 2\n",
    "    assert x.shape == y.shape\n",
    "    \n",
    "    x = x.copy()\n",
    "    for i in range(x.shape[0]):\n",
    "        for j in range(x.shape[1]):\n",
    "            x[i, j] += y[i, j]\n",
    "    return x"
   ]
  },
  {
   "cell_type": "code",
   "execution_count": 32,
   "metadata": {},
   "outputs": [],
   "source": [
    "#numpy element-wise add and rely\n",
    "import numpy as np\n",
    "x = [1, 2, 3]\n",
    "y = [4, 5, 6]\n",
    "z = np.array(x) + np.array(y)\n",
    "z = np.maximum(z, 0.)"
   ]
  },
  {
   "cell_type": "markdown",
   "metadata": {},
   "source": [
    "Pg.40"
   ]
  },
  {
   "cell_type": "code",
   "execution_count": null,
   "metadata": {
    "collapsed": true
   },
   "outputs": [],
   "source": []
  }
 ],
 "metadata": {
  "kernelspec": {
   "display_name": "Python 3",
   "language": "python",
   "name": "python3"
  },
  "language_info": {
   "codemirror_mode": {
    "name": "ipython",
    "version": 3
   },
   "file_extension": ".py",
   "mimetype": "text/x-python",
   "name": "python",
   "nbconvert_exporter": "python",
   "pygments_lexer": "ipython3",
   "version": "3.6.2"
  }
 },
 "nbformat": 4,
 "nbformat_minor": 2
}
